{
  "nbformat": 4,
  "nbformat_minor": 0,
  "metadata": {
    "colab": {
      "private_outputs": true,
      "provenance": []
    },
    "kernelspec": {
      "name": "python3",
      "display_name": "Python 3"
    },
    "language_info": {
      "name": "python"
    }
  },
  "cells": [
    {
      "cell_type": "code",
      "execution_count": null,
      "metadata": {
        "id": "D6jpJnBV1VVW"
      },
      "outputs": [],
      "source": [
        "import pandas as pd\n",
        "import numpy as np\n",
        "import matplotlib.pyplot as plt\n",
        "import seaborn as sns\n",
        "from sklearn.model_selection import train_test_split\n",
        "from sklearn.preprocessing import LabelEncoder, StandardScaler\n",
        "from sklearn.ensemble import RandomForestClassifier\n",
        "from sklearn.metrics import classification_report, confusion_matrix, accuracy_score\n",
        "from sklearn.model_selection import GridSearchCV"
      ]
    },
    {
      "cell_type": "code",
      "source": [
        "df = pd.read_csv('/content/penguins.csv')"
      ],
      "metadata": {
        "id": "1Qs1_oC0Fbrs"
      },
      "execution_count": null,
      "outputs": []
    },
    {
      "cell_type": "code",
      "source": [
        "# Data Exploration\n",
        "df.head()"
      ],
      "metadata": {
        "id": "tce-q4nHHWsx"
      },
      "execution_count": null,
      "outputs": []
    },
    {
      "cell_type": "code",
      "source": [
        "df.info()"
      ],
      "metadata": {
        "id": "tFtZ7DIGIadl"
      },
      "execution_count": null,
      "outputs": []
    },
    {
      "cell_type": "code",
      "source": [
        "df.describe()"
      ],
      "metadata": {
        "id": "Qp4lEe3EIb_1"
      },
      "execution_count": null,
      "outputs": []
    },
    {
      "cell_type": "code",
      "source": [
        "df.isnull().sum()"
      ],
      "metadata": {
        "id": "tp9TWbNLIegv"
      },
      "execution_count": null,
      "outputs": []
    },
    {
      "cell_type": "code",
      "source": [
        "# Visualisasi data\n",
        "plt.figure(figsize=(15,10))\n",
        "plt.subplot(2,2,1)\n",
        "sns.boxplot(x='species', y='bill_length_mm', data=df)\n",
        "plt.title('Panjang Paruh berdasarkan Spesies')\n",
        "\n",
        "plt.subplot(2,2,2)\n",
        "sns.boxplot(x='species', y='bill_depth_mm', data=df)\n",
        "plt.title('Kedalaman Paruh berdasarkan Spesies')\n",
        "\n",
        "plt.subplot(2,2,3)\n",
        "sns.boxplot(x='species', y='flipper_length_mm', data=df)\n",
        "plt.title('Panjang Sirip berdasarkan Spesies')\n",
        "\n",
        "plt.subplot(2,2,4)\n",
        "sns.boxplot(x='species', y='body_mass_g', data=df)\n",
        "plt.title('Massa Tubuh berdasarkan Spesies')\n",
        "\n",
        "plt.tight_layout()\n",
        "plt.show()"
      ],
      "metadata": {
        "id": "Xm2g-fbYIgiY"
      },
      "execution_count": null,
      "outputs": []
    },
    {
      "cell_type": "code",
      "source": [
        "# Data Preprocessing\n",
        "# Handle missing values\n",
        "df = df.dropna()  # Bisa juga diisi dengan mean/median jika prefer\n",
        "\n",
        "# Encode categorical variables\n",
        "le = LabelEncoder()\n",
        "df['sex'] = le.fit_transform(df['sex'])\n",
        "df['island'] = le.fit_transform(df['island'])\n",
        "\n",
        "# Pisahkan fitur dan target\n",
        "X = df.drop(['species'], axis=1)\n",
        "y = df['species']\n",
        "\n",
        "# Split data menjadi training dan testing set\n",
        "X_train, X_test, y_train, y_test = train_test_split(X, y, test_size=0.3, random_state=42)\n",
        "\n",
        "# Feature Scaling\n",
        "scaler = StandardScaler()\n",
        "X_train_scaled = scaler.fit_transform(X_train)\n",
        "X_test_scaled = scaler.transform(X_test)\n",
        "\n",
        "# Modeling dengan Random Forest\n",
        "rf = RandomForestClassifier(random_state=42)\n",
        "rf.fit(X_train_scaled, y_train)\n",
        "\n",
        "# Evaluasi model\n",
        "y_pred = rf.predict(X_test_scaled)\n",
        "\n",
        "print(\"\\nAkurasi Model:\", accuracy_score(y_test, y_pred))\n",
        "print(\"\\nLaporan Klasifikasi:\")\n",
        "print(classification_report(y_test, y_pred))\n",
        "\n",
        "print(\"\\nConfusion Matrix:\")\n",
        "print(confusion_matrix(y_test, y_pred))\n",
        "\n",
        "# Visualisasi feature importance\n",
        "feature_imp = pd.Series(rf.feature_importances_, index=X.columns).sort_values(ascending=False)\n",
        "plt.figure(figsize=(10,6))\n",
        "sns.barplot(x=feature_imp, y=feature_imp.index)\n",
        "plt.xlabel('Feature Importance Score')\n",
        "plt.ylabel('Features')\n",
        "plt.title(\"Feature Importance\")\n",
        "plt.show()\n",
        "\n"
      ],
      "metadata": {
        "id": "8JvUkEmoIydo"
      },
      "execution_count": null,
      "outputs": []
    },
    {
      "cell_type": "code",
      "source": [
        "# Hyperparameter Tuning dengan GridSearchCV\n",
        "param_grid = {\n",
        "    'n_estimators': [100, 200, 300],\n",
        "    'max_depth': [None, 5, 10],\n",
        "    'min_samples_split': [2, 5, 10],\n",
        "    'min_samples_leaf': [1, 2, 4]\n",
        "}\n",
        "\n",
        "grid_search = GridSearchCV(estimator=rf, param_grid=param_grid, cv=5, n_jobs=-1, verbose=2)\n",
        "grid_search.fit(X_train_scaled, y_train)\n",
        "\n",
        "print(\"\\nParameter Terbaik:\", grid_search.best_params_)"
      ],
      "metadata": {
        "id": "M3Q-XmWyI3aJ"
      },
      "execution_count": null,
      "outputs": []
    },
    {
      "cell_type": "code",
      "source": [
        "# Evaluasi model setelah tuning\n",
        "best_rf = grid_search.best_estimator_\n",
        "y_pred_tuned = best_rf.predict(X_test_scaled)\n",
        "\n",
        "print(\"\\nAkurasi Model Setelah Tuning:\", accuracy_score(y_test, y_pred_tuned))\n",
        "print(\"\\nLaporan Klasifikasi Setelah Tuning:\")\n",
        "print(classification_report(y_test, y_pred_tuned))\n",
        "\n",
        "# Simpan model untuk deployment (opsional)\n",
        "import joblib\n",
        "joblib.dump(best_rf, 'penguin_species_rf_model.pkl')\n",
        "joblib.dump(scaler, 'scaler.pkl')\n",
        "joblib.dump(le, 'label_encoder.pkl')"
      ],
      "metadata": {
        "id": "KrHySc0VI5Vm"
      },
      "execution_count": null,
      "outputs": []
    }
  ]
}